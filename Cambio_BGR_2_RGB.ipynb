{
  "nbformat": 4,
  "nbformat_minor": 0,
  "metadata": {
    "colab": {
      "name": "Cambio_BGR_2_RGB.ipynb",
      "provenance": [],
      "authorship_tag": "ABX9TyNJI4YbH39Mx8fdvGWS6WfD",
      "include_colab_link": true
    },
    "kernelspec": {
      "name": "python3",
      "display_name": "Python 3"
    }
  },
  "cells": [
    {
      "cell_type": "markdown",
      "metadata": {
        "id": "view-in-github",
        "colab_type": "text"
      },
      "source": [
        "<a href=\"https://colab.research.google.com/github/adrielmachado01/Histogramas-OpenCV/blob/add-kinect-code/Cambio_BGR_2_RGB.ipynb\" target=\"_parent\"><img src=\"https://colab.research.google.com/assets/colab-badge.svg\" alt=\"Open In Colab\"/></a>"
      ]
    },
    {
      "cell_type": "code",
      "metadata": {
        "id": "pmPzqgipJnt5",
        "colab_type": "code",
        "colab": {}
      },
      "source": [
        "#!/usr/bin/env python\n",
        "from freenect import sync_get_depth as get_depth, sync_get_video as get_video\n",
        "import cv2  \n",
        "import numpy as np\n",
        "  \n",
        "def doloop():\n",
        "    global depth, rgb\n",
        "    #height, width = rgb.shape[:2]\n",
        "    #img = np.array\n",
        "    while True:\n",
        "        # Get a fresh frame\n",
        "        (depth,_), (rgb,_) = get_depth(), get_video()\n",
        "        h, w = rgb.shape[:2]\n",
        "        img2 = np.zeros((h, w, 3), np.uint8)\n",
        "        img2[:, :, 0] = rgb[:, :, 2]\n",
        "        img2[:, :, 1] = rgb[:, :, 1]\n",
        "        img2[:, :, 2] = rgb[:, :, 0]\n",
        "        #print(rgb)\n",
        "        #rgb_depth = cv2.cvtColor(depth, cv2.COLOR_GRAY2BGR)\n",
        "        # Build a two panel color image\n",
        "        #print(depth)\n",
        "\n",
        "        d3 = np.dstack((depth,depth,depth)).astype(np.uint8)\n",
        "        da = np.hstack((d3,rgb))\n",
        "\n",
        "        if cv2.waitKey(1) & 0xFF == ord('q'):\n",
        "            break\n",
        "        # Simple Downsample\n",
        "        cv2.imshow('El depth | RGB', np.hstack((d3,img2)))#np.array(da[::2,::2,::-1])\n",
        "        cv2.waitKey(5)\n",
        "        \n",
        "doloop()\n",
        "\n",
        "\"\"\"\n",
        "IPython usage:\n",
        " ipython\n",
        " [1]: run -i demo_freenect\n",
        " #<ctrl -c>  (to interrupt the loop)\n",
        " [2]: %timeit -n100 get_depth(), get_rgb() # profile the kinect capture\n",
        "\n",
        "\"\"\""
      ],
      "execution_count": null,
      "outputs": []
    }
  ]
}